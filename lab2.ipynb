{
 "cells": [
  {
   "cell_type": "code",
   "execution_count": 1,
   "metadata": {},
   "outputs": [],
   "source": [
    "files = ['brock200_1.clq', 'brock200_2.clq', 'brock200_3.clq', 'brock200_4.clq', 'brock400_1.clq','brock400_2.clq','brock400_3.clq','brock400_4.clq',\n",
    "         'C125.9.clq', 'gen200_p0.9_44.clq', 'gen200_p0.9_55.clq', 'hamming8-4.clq', 'johnson16-2-4.clq', 'johnson8-2-4.clq', 'keller4.clq', 'MANN_a27.clq', 'MANN_a9.clq',\n",
    "         'p_hat1000-1.clq', 'p_hat1000-2.clq', 'p_hat1500-1.clq', 'p_hat300-3.clq', 'p_hat500-3.clq', 'san1000.clq', 'sanr200_0.9.clq', 'sanr400_0.7.clq'\n",
    "         ]"
   ]
  },
  {
   "cell_type": "code",
   "execution_count": 2,
   "metadata": {},
   "outputs": [],
   "source": [
    "# Инициализация пустого двумерного массива\n",
    "edges = []\n",
    "\n",
    "# Открытие файла для чтения\n",
    "with open('brock200_1.clq', 'r') as file:\n",
    "    for line in file:\n",
    "        # Проверка, начинается ли строка с 'e'\n",
    "        if line.startswith('e'):\n",
    "            # Извлечение чисел из строки и преобразование их в целые числа\n",
    "            numbers = list(map(int, line.split()[1:]))  # Пропускаем первый элемент ('e')\n",
    "            edges.append(numbers)  # Добавляем список чисел в двумерный массив\n"
   ]
  },
  {
   "cell_type": "code",
   "execution_count": 8,
   "metadata": {},
   "outputs": [
    {
     "name": "stdout",
     "output_type": "stream",
     "text": [
      "Максимальная клика: [136, 124, 79, 339, 8, 16, 57, 59, 24, 9, 340, 145, 278, 117, 199, 71, 378, 324, 288, 259, 280, 319, 140, 327, 230, 220, 271, 183, 52, 101, 239, 205, 372, 285, 223, 30, 2, 15, 65, 304, 358, 374, 333, 174, 217, 73, 128, 142, 356, 122, 270, 365, 363, 110, 169, 31, 245, 291, 95, 175, 47, 153, 256, 249, 78, 316, 97, 104, 50, 198, 352, 226, 189, 13, 135, 167, 194, 209, 165, 302, 262, 211, 61, 160, 297, 299, 343, 275, 241, 334, 253, 348, 40, 107, 204, 131, 308, 293, 157, 237, 82, 265, 37, 112, 234, 118, 68, 34, 89, 85, 178, 312, 351, 148, 184, 44, 156, 367, 91, 251, 314, 330, 216]\n"
     ]
    }
   ],
   "source": [
    "import random\n",
    "import time\n",
    "\n",
    "def build_graph(edges):\n",
    "    \"\"\"\n",
    "    Создает граф в виде словаря смежности из списка рёбер.\n",
    "    \"\"\"\n",
    "    graph = {}\n",
    "    for u, v in edges:\n",
    "        if u not in graph:\n",
    "            graph[u] = []\n",
    "        if v not in graph:\n",
    "            graph[v] = []\n",
    "        graph[u].append(v)\n",
    "        graph[v].append(u)\n",
    "    return graph\n",
    "\n",
    "def greedy_randomized_max_clique(graph, iterations=2000):\n",
    "    \"\"\"\n",
    "    Жадная рандомизированная эвристика для поиска максимальной клики.\n",
    "\n",
    "    Параметры:\n",
    "    - graph: граф в виде словаря смежности\n",
    "    - iterations: количество итераций для рандомизации\n",
    "\n",
    "    Возвращает:\n",
    "    - max_clique: найденная максимальная клика\n",
    "    \"\"\"\n",
    "    max_clique = []\n",
    "\n",
    "    # Повторяем алгоритм несколько раз для рандомизации\n",
    "    for _ in range(iterations):\n",
    "        nodes = list(graph.keys())  # Получаем список всех узлов\n",
    "        random.shuffle(nodes)  # Перемешиваем узлы\n",
    "\n",
    "        current_clique = []  # Текущая клика\n",
    "\n",
    "        for node in nodes:\n",
    "            # Проверяем, может ли текущий узел быть добавлен в клику\n",
    "            if all(neighbor in graph[node] for neighbor in current_clique):\n",
    "                current_clique.append(node)\n",
    "\n",
    "        # Обновляем максимальную клику, если нашли больше\n",
    "        if len(current_clique) > len(max_clique):\n",
    "            max_clique = current_clique\n",
    "\n",
    "    return max_clique\n",
    "\n",
    "# Создаем граф\n",
    "graph = build_graph(edges)\n",
    "\n",
    "# Ищем максимальную клику\n",
    "max_clique = greedy_randomized_max_clique(graph)\n",
    "\n",
    "# Выводим результат\n",
    "print(\"Максимальная клика:\", max_clique)"
   ]
  },
  {
   "cell_type": "code",
   "execution_count": 9,
   "metadata": {},
   "outputs": [
    {
     "name": "stdout",
     "output_type": "stream",
     "text": [
      "19 время: 2.1146047115325928\n",
      "12 время: 1.2143914699554443\n",
      "13 время: 1.5622093677520752\n",
      "15 время: 1.5423951148986816\n",
      "22 время: 9.536834955215454\n",
      "21 время: 9.448874235153198\n",
      "21 время: 9.368654489517212\n",
      "21 время: 9.296283721923828\n",
      "31 время: 1.757690191268921\n",
      "36 время: 4.242039918899536\n",
      "42 время: 4.380029201507568\n",
      "13 время: 2.222285270690918\n",
      "8 время: 0.808483362197876\n",
      "4 время: 0.0860288143157959\n",
      "11 время: 1.1079730987548828\n",
      "124 время: 93.87732148170471\n",
      "16 время: 0.3156306743621826\n",
      "9 время: 19.71783447265625\n",
      "35 время: 47.49628305435181\n",
      "10 время: 50.85226106643677\n",
      "31 время: 5.100510835647583\n",
      "39 время: 19.766559839248657\n",
      "10 время: 47.7873637676239\n",
      "37 время: 4.171206951141357\n",
      "18 время: 7.420258283615112\n"
     ]
    }
   ],
   "source": [
    "for file in files:\n",
    "    start_time = time.time()  # Запоминаем время начала выполнения\n",
    "    # Инициализация пустого двумерного массива\n",
    "    edges = []\n",
    "\n",
    "    # Открытие файла для чтения\n",
    "    with open(file, 'r') as file:\n",
    "        for line in file:\n",
    "            # Проверка, начинается ли строка с 'e'\n",
    "            if line.startswith('e'):\n",
    "                # Извлечение чисел из строки и преобразование их в целые числа\n",
    "                numbers = list(map(int, line.split()[1:]))  # Пропускаем первый элемент ('e')\n",
    "                edges.append(numbers)  # Добавляем список чисел в двумерный массив\n",
    "    \n",
    "    # Создаем граф\n",
    "    graph = build_graph(edges)\n",
    "\n",
    "    # Ищем максимальную клику\n",
    "    max_clique = greedy_randomized_max_clique(graph)\n",
    "\n",
    "    end_time = time.time()  # Запоминаем время окончания\n",
    "    execution_time = end_time - start_time  # Вычисляем время выполнения\n",
    "\n",
    "    # Выводим результат\n",
    "    #print(file)\n",
    "    #print(\"Максимальная клика:\", max_clique)\n",
    "    print(len(max_clique), \"время:\", execution_time)\n",
    "    #print(\"время:\", execution_time)"
   ]
  }
 ],
 "metadata": {
  "kernelspec": {
   "display_name": "base",
   "language": "python",
   "name": "python3"
  },
  "language_info": {
   "codemirror_mode": {
    "name": "ipython",
    "version": 3
   },
   "file_extension": ".py",
   "mimetype": "text/x-python",
   "name": "python",
   "nbconvert_exporter": "python",
   "pygments_lexer": "ipython3",
   "version": "3.12.7"
  }
 },
 "nbformat": 4,
 "nbformat_minor": 2
}
