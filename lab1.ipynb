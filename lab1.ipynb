{
 "cells": [
  {
   "cell_type": "code",
   "execution_count": 5,
   "metadata": {},
   "outputs": [],
   "source": [
    "files = ['myciel3.col', 'myciel7.col', 'school1.col', 'school1_nsh.col', 'anna.col','miles1000.col','miles1500.col','le450_5a.col',\n",
    "         'le450_15b.col', 'queen11_11.col'\n",
    "         ]"
   ]
  },
  {
   "cell_type": "code",
   "execution_count": 13,
   "metadata": {},
   "outputs": [
    {
     "name": "stdout",
     "output_type": "stream",
     "text": [
      "[[1, 2], [1, 4], [1, 7], [1, 9], [2, 3], [2, 6], [2, 8], [3, 5], [3, 7], [3, 10], [4, 5], [4, 6], [4, 10], [5, 8], [5, 9], [6, 11], [7, 11], [8, 11], [9, 11], [10, 11]]\n"
     ]
    }
   ],
   "source": [
    "# Инициализация пустого двумерного массива\n",
    "edges = []\n",
    "\n",
    "# Открытие файла для чтения\n",
    "with open('myciel3.col', 'r') as file:\n",
    "    for line in file:\n",
    "        # Проверка, начинается ли строка с 'e'\n",
    "        if line.startswith('e'):\n",
    "            # Извлечение чисел из строки и преобразование их в целые числа\n",
    "            numbers = list(map(int, line.split()[1:]))  # Пропускаем первый элемент ('e')\n",
    "            edges.append(numbers)  # Добавляем список чисел в двумерный массив\n",
    "\n",
    "# Вывод результата\n",
    "print(edges)"
   ]
  },
  {
   "cell_type": "code",
   "execution_count": 15,
   "metadata": {},
   "outputs": [
    {
     "name": "stdout",
     "output_type": "stream",
     "text": [
      "Количество цветов: 4\n"
     ]
    }
   ],
   "source": [
    "import time\n",
    "def greedy_coloring(edges):\n",
    "    # Создаем граф в виде списка смежности\n",
    "    from collections import defaultdict\n",
    "\n",
    "    graph = defaultdict(list)\n",
    "    for u, v in edges:\n",
    "        graph[u].append(v)\n",
    "        graph[v].append(u)\n",
    "\n",
    "    # Словарь для хранения цвета каждой вершины\n",
    "    color = {}\n",
    "\n",
    "    # Проходим по всем вершинам графа\n",
    "    for vertex in graph:\n",
    "        # Множество доступных цветов для текущей вершины\n",
    "        available_colors = set(range(1, len(graph) + 1))\n",
    "\n",
    "        # Проверяем цвета соседей\n",
    "        for neighbor in graph[vertex]:\n",
    "            if neighbor in color:\n",
    "                available_colors.discard(color[neighbor])\n",
    "\n",
    "        # Если доступные цвета есть, выбираем минимальный\n",
    "        if available_colors:\n",
    "            color[vertex] = min(available_colors)\n",
    "        else:\n",
    "            # Если доступных цветов нет, используем новый цвет\n",
    "            color[vertex] = max(color.values()) + 1\n",
    "\n",
    "    # Количество разных цветов, использованных в раскраске\n",
    "    return len(set(color.values()))\n",
    "\n",
    "# Пример использования\n",
    "\n",
    "num_colors = greedy_coloring(edges)\n",
    "print(f'Количество цветов: {num_colors}')\n",
    "\n"
   ]
  },
  {
   "cell_type": "code",
   "execution_count": 17,
   "metadata": {},
   "outputs": [
    {
     "name": "stdout",
     "output_type": "stream",
     "text": [
      "<_io.TextIOWrapper name='myciel3.col' mode='r' encoding='utf-8'>\n",
      "Цветов: 4\n",
      "время: 0.0010023117065429688\n",
      "<_io.TextIOWrapper name='myciel7.col' mode='r' encoding='utf-8'>\n",
      "Цветов: 8\n",
      "время: 0.01099848747253418\n",
      "<_io.TextIOWrapper name='school1.col' mode='r' encoding='utf-8'>\n",
      "Цветов: 42\n",
      "время: 0.296741247177124\n",
      "<_io.TextIOWrapper name='school1_nsh.col' mode='r' encoding='utf-8'>\n",
      "Цветов: 39\n",
      "время: 0.05701470375061035\n",
      "<_io.TextIOWrapper name='anna.col' mode='r' encoding='utf-8'>\n",
      "Цветов: 11\n",
      "время: 0.006000995635986328\n",
      "<_io.TextIOWrapper name='miles1000.col' mode='r' encoding='utf-8'>\n",
      "Цветов: 45\n",
      "время: 0.02400493621826172\n",
      "<_io.TextIOWrapper name='miles1500.col' mode='r' encoding='utf-8'>\n",
      "Цветов: 73\n",
      "время: 0.03500723838806152\n",
      "<_io.TextIOWrapper name='le450_5a.col' mode='r' encoding='utf-8'>\n",
      "Цветов: 13\n",
      "время: 0.03600811958312988\n",
      "<_io.TextIOWrapper name='le450_15b.col' mode='r' encoding='utf-8'>\n",
      "Цветов: 21\n",
      "время: 0.040021419525146484\n",
      "<_io.TextIOWrapper name='queen11_11.col' mode='r' encoding='utf-8'>\n",
      "Цветов: 17\n",
      "время: 0.012993097305297852\n"
     ]
    }
   ],
   "source": [
    "for file in files:\n",
    "    start_time = time.time()  # Запоминаем время начала выполнения\n",
    "    # Инициализация пустого двумерного массива\n",
    "    edges = []\n",
    "\n",
    "    # Открытие файла для чтения\n",
    "    with open(file, 'r') as file:\n",
    "        for line in file:\n",
    "            # Проверка, начинается ли строка с 'e'\n",
    "            if line.startswith('e'):\n",
    "                # Извлечение чисел из строки и преобразование их в целые числа\n",
    "                numbers = list(map(int, line.split()[1:]))  # Пропускаем первый элемент ('e')\n",
    "                edges.append(numbers)  # Добавляем список чисел в двумерный массив\n",
    "    \n",
    "    num_colors = greedy_coloring(edges)\n",
    "\n",
    "    end_time = time.time()  # Запоминаем время окончания\n",
    "    execution_time = end_time - start_time  # Вычисляем время выполнения\n",
    "\n",
    "    # Выводим результат\n",
    "    print(file)\n",
    "    print(\"Цветов:\", num_colors)\n",
    "    print(\"время:\", execution_time)"
   ]
  }
 ],
 "metadata": {
  "kernelspec": {
   "display_name": "base",
   "language": "python",
   "name": "python3"
  },
  "language_info": {
   "codemirror_mode": {
    "name": "ipython",
    "version": 3
   },
   "file_extension": ".py",
   "mimetype": "text/x-python",
   "name": "python",
   "nbconvert_exporter": "python",
   "pygments_lexer": "ipython3",
   "version": "3.12.7"
  }
 },
 "nbformat": 4,
 "nbformat_minor": 2
}
